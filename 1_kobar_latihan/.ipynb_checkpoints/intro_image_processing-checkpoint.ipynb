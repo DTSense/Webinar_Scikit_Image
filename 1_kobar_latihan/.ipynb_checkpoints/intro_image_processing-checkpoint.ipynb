{
 "cells": [
  {
   "cell_type": "markdown",
   "metadata": {},
   "source": [
    "<a href=\"https://colab.research.google.com/github/DTSense/Webinar_Scikit_Image/blob/main/1_kobar_latihan/intro_image_processing.ipynb\" target=\"_parent\"><img src=\"https://colab.research.google.com/assets/colab-badge.svg\" alt=\"Open In Colab\"/></a>"
   ]
  },
  {
   "cell_type": "code",
   "execution_count": 1,
   "metadata": {},
   "outputs": [],
   "source": [
    "# Import the modules from skimage\n",
    "# import ..."
   ]
  },
  {
   "cell_type": "code",
   "execution_count": 2,
   "metadata": {},
   "outputs": [],
   "source": [
    "def show_image(image, title='Image', cmap_type='gray'):    \n",
    "    plt.imshow(image, cmap=cmap_type)        \n",
    "    plt.title(title)    \n",
    "    plt.axis('off')    \n",
    "    plt.show()"
   ]
  },
  {
   "cell_type": "code",
   "execution_count": 2,
   "metadata": {},
   "outputs": [],
   "source": [
    "# CODES Here\n",
    "# ..."
   ]
  },
  {
   "cell_type": "code",
   "execution_count": null,
   "metadata": {},
   "outputs": [],
   "source": [
    "# CODES Here\n",
    "# ..."
   ]
  },
  {
   "cell_type": "code",
   "execution_count": 87,
   "metadata": {},
   "outputs": [],
   "source": [
    "def getFace(d, image):\n",
    "    ''' Extracts the face rectangle from the image using the    \n",
    "    coordinates of the detected.'''\n",
    "    # X and Y starting points of the face rectangle    \n",
    "    x, y  = d['r'], d['c']\n",
    "    \n",
    "    # The width and height of the face rectangle    \n",
    "    width, height = d['r'] + d['width'],  d['c'] + d['height']\n",
    "    \n",
    "    # Extract the detected face    \n",
    "    face= image[x:width, y:height]\n",
    "    return face\n",
    "\n",
    "\n",
    "def mergeBlurryFace(original, gaussian_image, d):\n",
    "    # X and Y starting points of the face rectangle    \n",
    "    x, y  = d['r'], d['c']\n",
    "    \n",
    "    # The width and height of the face rectangle    \n",
    "    width, height = d['r'] + d['width'],  d['c'] + d['height']\n",
    "    print(original.flags)\n",
    "    #original.flags.writeable = True\n",
    "    original.setflags(write=1, align=0)\n",
    "    original[x:width, y:height] =  gaussian_image\n",
    "    return original"
   ]
  }
 ],
 "metadata": {
  "kernelspec": {
   "display_name": "Python 3",
   "language": "python",
   "name": "python3"
  },
  "language_info": {
   "codemirror_mode": {
    "name": "ipython",
    "version": 3
   },
   "file_extension": ".py",
   "mimetype": "text/x-python",
   "name": "python",
   "nbconvert_exporter": "python",
   "pygments_lexer": "ipython3",
   "version": "3.7.3"
  }
 },
 "nbformat": 4,
 "nbformat_minor": 2
}
